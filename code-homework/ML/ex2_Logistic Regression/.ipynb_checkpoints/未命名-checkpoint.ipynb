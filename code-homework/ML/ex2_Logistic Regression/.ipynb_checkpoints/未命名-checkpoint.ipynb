{
 "cells": [
  {
   "cell_type": "markdown",
   "metadata": {},
   "source": [
    "# 逻辑回归（二分类）\n",
    "---"
   ]
  },
  {
   "cell_type": "markdown",
   "metadata": {},
   "source": [
    "## 读取数据并可视化"
   ]
  },
  {
   "cell_type": "code",
   "execution_count": 1,
   "metadata": {},
   "outputs": [
    {
     "data": {
      "text/html": [
       "<div>\n",
       "<style scoped>\n",
       "    .dataframe tbody tr th:only-of-type {\n",
       "        vertical-align: middle;\n",
       "    }\n",
       "\n",
       "    .dataframe tbody tr th {\n",
       "        vertical-align: top;\n",
       "    }\n",
       "\n",
       "    .dataframe thead th {\n",
       "        text-align: right;\n",
       "    }\n",
       "</style>\n",
       "<table border=\"1\" class=\"dataframe\">\n",
       "  <thead>\n",
       "    <tr style=\"text-align: right;\">\n",
       "      <th></th>\n",
       "      <th>exam 1 score</th>\n",
       "      <th>exam 2 score</th>\n",
       "      <th>admitted?</th>\n",
       "    </tr>\n",
       "  </thead>\n",
       "  <tbody>\n",
       "    <tr>\n",
       "      <th>0</th>\n",
       "      <td>34.623660</td>\n",
       "      <td>78.024693</td>\n",
       "      <td>0</td>\n",
       "    </tr>\n",
       "    <tr>\n",
       "      <th>1</th>\n",
       "      <td>30.286711</td>\n",
       "      <td>43.894998</td>\n",
       "      <td>0</td>\n",
       "    </tr>\n",
       "    <tr>\n",
       "      <th>2</th>\n",
       "      <td>35.847409</td>\n",
       "      <td>72.902198</td>\n",
       "      <td>0</td>\n",
       "    </tr>\n",
       "    <tr>\n",
       "      <th>3</th>\n",
       "      <td>60.182599</td>\n",
       "      <td>86.308552</td>\n",
       "      <td>1</td>\n",
       "    </tr>\n",
       "    <tr>\n",
       "      <th>4</th>\n",
       "      <td>79.032736</td>\n",
       "      <td>75.344376</td>\n",
       "      <td>1</td>\n",
       "    </tr>\n",
       "  </tbody>\n",
       "</table>\n",
       "</div>"
      ],
      "text/plain": [
       "   exam 1 score  exam 2 score  admitted?\n",
       "0     34.623660     78.024693          0\n",
       "1     30.286711     43.894998          0\n",
       "2     35.847409     72.902198          0\n",
       "3     60.182599     86.308552          1\n",
       "4     79.032736     75.344376          1"
      ]
     },
     "execution_count": 1,
     "metadata": {},
     "output_type": "execute_result"
    }
   ],
   "source": [
    "import numpy as np\n",
    "import pandas as pd\n",
    "import matplotlib.pyplot as plt\n",
    "data = pd.read_csv('ex2data1.txt',names = ['exam 1 score','exam 2 score','admitted?'])\n",
    "data.head()"
   ]
  },
  {
   "cell_type": "code",
   "execution_count": 2,
   "metadata": {},
   "outputs": [
    {
     "data": {
      "text/plain": [
       "(array([[34.62365962, 78.02469282],\n",
       "        [30.28671077, 43.89499752],\n",
       "        [35.84740877, 72.90219803],\n",
       "        [60.18259939, 86.3085521 ],\n",
       "        [79.03273605, 75.34437644],\n",
       "        [45.08327748, 56.31637178],\n",
       "        [61.10666454, 96.51142588],\n",
       "        [75.02474557, 46.55401354],\n",
       "        [76.0987867 , 87.42056972],\n",
       "        [84.43281996, 43.53339331],\n",
       "        [95.86155507, 38.22527806],\n",
       "        [75.01365839, 30.60326323],\n",
       "        [82.30705337, 76.4819633 ],\n",
       "        [69.36458876, 97.71869196],\n",
       "        [39.53833914, 76.03681085],\n",
       "        [53.97105215, 89.20735014],\n",
       "        [69.07014406, 52.74046973],\n",
       "        [67.94685548, 46.67857411],\n",
       "        [70.66150955, 92.92713789],\n",
       "        [76.97878373, 47.57596365],\n",
       "        [67.37202755, 42.83843832],\n",
       "        [89.67677575, 65.79936593],\n",
       "        [50.53478829, 48.85581153],\n",
       "        [34.21206098, 44.2095286 ],\n",
       "        [77.92409145, 68.97235999],\n",
       "        [62.27101367, 69.95445795],\n",
       "        [80.19018075, 44.82162893],\n",
       "        [93.1143888 , 38.80067034],\n",
       "        [61.83020602, 50.25610789],\n",
       "        [38.7858038 , 64.99568096],\n",
       "        [61.37928945, 72.80788731],\n",
       "        [85.40451939, 57.05198398],\n",
       "        [52.10797973, 63.12762377],\n",
       "        [52.04540477, 69.43286012],\n",
       "        [40.23689374, 71.16774802],\n",
       "        [54.63510555, 52.21388588],\n",
       "        [33.91550011, 98.86943574],\n",
       "        [64.17698887, 80.90806059],\n",
       "        [74.78925296, 41.57341523],\n",
       "        [34.18364003, 75.23772034],\n",
       "        [83.90239366, 56.30804622],\n",
       "        [51.54772027, 46.85629026],\n",
       "        [94.44336777, 65.56892161],\n",
       "        [82.36875376, 40.61825516],\n",
       "        [51.04775177, 45.82270146],\n",
       "        [62.22267576, 52.06099195],\n",
       "        [77.19303493, 70.4582    ],\n",
       "        [97.77159928, 86.72782233],\n",
       "        [62.0730638 , 96.76882412],\n",
       "        [91.5649745 , 88.69629255],\n",
       "        [79.94481794, 74.16311935],\n",
       "        [99.27252693, 60.999031  ],\n",
       "        [90.54671411, 43.39060181],\n",
       "        [34.52451385, 60.39634246],\n",
       "        [50.28649612, 49.80453881],\n",
       "        [49.58667722, 59.80895099],\n",
       "        [97.64563396, 68.86157272],\n",
       "        [32.57720017, 95.59854761],\n",
       "        [74.24869137, 69.82457123],\n",
       "        [71.79646206, 78.45356225],\n",
       "        [75.39561147, 85.75993667],\n",
       "        [35.28611282, 47.02051395],\n",
       "        [56.2538175 , 39.26147251],\n",
       "        [30.05882245, 49.59297387],\n",
       "        [44.66826172, 66.45008615],\n",
       "        [66.56089447, 41.09209808],\n",
       "        [40.45755098, 97.53518549],\n",
       "        [49.07256322, 51.88321182],\n",
       "        [80.27957401, 92.11606081],\n",
       "        [66.74671857, 60.99139403],\n",
       "        [32.72283304, 43.30717306],\n",
       "        [64.03932042, 78.03168802],\n",
       "        [72.34649423, 96.22759297],\n",
       "        [60.45788574, 73.0949981 ],\n",
       "        [58.84095622, 75.85844831],\n",
       "        [99.8278578 , 72.36925193],\n",
       "        [47.26426911, 88.475865  ],\n",
       "        [50.4581598 , 75.80985953],\n",
       "        [60.45555629, 42.50840944],\n",
       "        [82.22666158, 42.71987854],\n",
       "        [88.91389642, 69.8037889 ],\n",
       "        [94.83450672, 45.6943068 ],\n",
       "        [67.31925747, 66.58935318],\n",
       "        [57.23870632, 59.51428198],\n",
       "        [80.366756  , 90.9601479 ],\n",
       "        [68.46852179, 85.5943071 ],\n",
       "        [42.07545454, 78.844786  ],\n",
       "        [75.47770201, 90.424539  ],\n",
       "        [78.63542435, 96.64742717],\n",
       "        [52.34800399, 60.76950526],\n",
       "        [94.09433113, 77.15910509],\n",
       "        [90.44855097, 87.50879176],\n",
       "        [55.48216114, 35.57070347],\n",
       "        [74.49269242, 84.84513685],\n",
       "        [89.84580671, 45.35828361],\n",
       "        [83.48916274, 48.3802858 ],\n",
       "        [42.26170081, 87.10385094],\n",
       "        [99.31500881, 68.77540947],\n",
       "        [55.34001756, 64.93193801],\n",
       "        [74.775893  , 89.5298129 ]]),\n",
       " array([[0],\n",
       "        [0],\n",
       "        [0],\n",
       "        [1],\n",
       "        [1],\n",
       "        [0],\n",
       "        [1],\n",
       "        [1],\n",
       "        [1],\n",
       "        [1],\n",
       "        [0],\n",
       "        [0],\n",
       "        [1],\n",
       "        [1],\n",
       "        [0],\n",
       "        [1],\n",
       "        [1],\n",
       "        [0],\n",
       "        [1],\n",
       "        [1],\n",
       "        [0],\n",
       "        [1],\n",
       "        [0],\n",
       "        [0],\n",
       "        [1],\n",
       "        [1],\n",
       "        [1],\n",
       "        [0],\n",
       "        [0],\n",
       "        [0],\n",
       "        [1],\n",
       "        [1],\n",
       "        [0],\n",
       "        [1],\n",
       "        [0],\n",
       "        [0],\n",
       "        [0],\n",
       "        [1],\n",
       "        [0],\n",
       "        [0],\n",
       "        [1],\n",
       "        [0],\n",
       "        [1],\n",
       "        [0],\n",
       "        [0],\n",
       "        [0],\n",
       "        [1],\n",
       "        [1],\n",
       "        [1],\n",
       "        [1],\n",
       "        [1],\n",
       "        [1],\n",
       "        [1],\n",
       "        [0],\n",
       "        [0],\n",
       "        [0],\n",
       "        [1],\n",
       "        [0],\n",
       "        [1],\n",
       "        [1],\n",
       "        [1],\n",
       "        [0],\n",
       "        [0],\n",
       "        [0],\n",
       "        [0],\n",
       "        [0],\n",
       "        [1],\n",
       "        [0],\n",
       "        [1],\n",
       "        [1],\n",
       "        [0],\n",
       "        [1],\n",
       "        [1],\n",
       "        [1],\n",
       "        [1],\n",
       "        [1],\n",
       "        [1],\n",
       "        [1],\n",
       "        [0],\n",
       "        [0],\n",
       "        [1],\n",
       "        [1],\n",
       "        [1],\n",
       "        [1],\n",
       "        [1],\n",
       "        [1],\n",
       "        [0],\n",
       "        [1],\n",
       "        [1],\n",
       "        [0],\n",
       "        [1],\n",
       "        [1],\n",
       "        [0],\n",
       "        [1],\n",
       "        [1],\n",
       "        [1],\n",
       "        [1],\n",
       "        [1],\n",
       "        [1],\n",
       "        [1]]),\n",
       " array([[ 1.        , 34.62365962, 78.02469282],\n",
       "        [ 1.        , 30.28671077, 43.89499752],\n",
       "        [ 1.        , 35.84740877, 72.90219803],\n",
       "        [ 1.        , 60.18259939, 86.3085521 ],\n",
       "        [ 1.        , 79.03273605, 75.34437644],\n",
       "        [ 1.        , 45.08327748, 56.31637178],\n",
       "        [ 1.        , 61.10666454, 96.51142588],\n",
       "        [ 1.        , 75.02474557, 46.55401354],\n",
       "        [ 1.        , 76.0987867 , 87.42056972],\n",
       "        [ 1.        , 84.43281996, 43.53339331],\n",
       "        [ 1.        , 95.86155507, 38.22527806],\n",
       "        [ 1.        , 75.01365839, 30.60326323],\n",
       "        [ 1.        , 82.30705337, 76.4819633 ],\n",
       "        [ 1.        , 69.36458876, 97.71869196],\n",
       "        [ 1.        , 39.53833914, 76.03681085],\n",
       "        [ 1.        , 53.97105215, 89.20735014],\n",
       "        [ 1.        , 69.07014406, 52.74046973],\n",
       "        [ 1.        , 67.94685548, 46.67857411],\n",
       "        [ 1.        , 70.66150955, 92.92713789],\n",
       "        [ 1.        , 76.97878373, 47.57596365],\n",
       "        [ 1.        , 67.37202755, 42.83843832],\n",
       "        [ 1.        , 89.67677575, 65.79936593],\n",
       "        [ 1.        , 50.53478829, 48.85581153],\n",
       "        [ 1.        , 34.21206098, 44.2095286 ],\n",
       "        [ 1.        , 77.92409145, 68.97235999],\n",
       "        [ 1.        , 62.27101367, 69.95445795],\n",
       "        [ 1.        , 80.19018075, 44.82162893],\n",
       "        [ 1.        , 93.1143888 , 38.80067034],\n",
       "        [ 1.        , 61.83020602, 50.25610789],\n",
       "        [ 1.        , 38.7858038 , 64.99568096],\n",
       "        [ 1.        , 61.37928945, 72.80788731],\n",
       "        [ 1.        , 85.40451939, 57.05198398],\n",
       "        [ 1.        , 52.10797973, 63.12762377],\n",
       "        [ 1.        , 52.04540477, 69.43286012],\n",
       "        [ 1.        , 40.23689374, 71.16774802],\n",
       "        [ 1.        , 54.63510555, 52.21388588],\n",
       "        [ 1.        , 33.91550011, 98.86943574],\n",
       "        [ 1.        , 64.17698887, 80.90806059],\n",
       "        [ 1.        , 74.78925296, 41.57341523],\n",
       "        [ 1.        , 34.18364003, 75.23772034],\n",
       "        [ 1.        , 83.90239366, 56.30804622],\n",
       "        [ 1.        , 51.54772027, 46.85629026],\n",
       "        [ 1.        , 94.44336777, 65.56892161],\n",
       "        [ 1.        , 82.36875376, 40.61825516],\n",
       "        [ 1.        , 51.04775177, 45.82270146],\n",
       "        [ 1.        , 62.22267576, 52.06099195],\n",
       "        [ 1.        , 77.19303493, 70.4582    ],\n",
       "        [ 1.        , 97.77159928, 86.72782233],\n",
       "        [ 1.        , 62.0730638 , 96.76882412],\n",
       "        [ 1.        , 91.5649745 , 88.69629255],\n",
       "        [ 1.        , 79.94481794, 74.16311935],\n",
       "        [ 1.        , 99.27252693, 60.999031  ],\n",
       "        [ 1.        , 90.54671411, 43.39060181],\n",
       "        [ 1.        , 34.52451385, 60.39634246],\n",
       "        [ 1.        , 50.28649612, 49.80453881],\n",
       "        [ 1.        , 49.58667722, 59.80895099],\n",
       "        [ 1.        , 97.64563396, 68.86157272],\n",
       "        [ 1.        , 32.57720017, 95.59854761],\n",
       "        [ 1.        , 74.24869137, 69.82457123],\n",
       "        [ 1.        , 71.79646206, 78.45356225],\n",
       "        [ 1.        , 75.39561147, 85.75993667],\n",
       "        [ 1.        , 35.28611282, 47.02051395],\n",
       "        [ 1.        , 56.2538175 , 39.26147251],\n",
       "        [ 1.        , 30.05882245, 49.59297387],\n",
       "        [ 1.        , 44.66826172, 66.45008615],\n",
       "        [ 1.        , 66.56089447, 41.09209808],\n",
       "        [ 1.        , 40.45755098, 97.53518549],\n",
       "        [ 1.        , 49.07256322, 51.88321182],\n",
       "        [ 1.        , 80.27957401, 92.11606081],\n",
       "        [ 1.        , 66.74671857, 60.99139403],\n",
       "        [ 1.        , 32.72283304, 43.30717306],\n",
       "        [ 1.        , 64.03932042, 78.03168802],\n",
       "        [ 1.        , 72.34649423, 96.22759297],\n",
       "        [ 1.        , 60.45788574, 73.0949981 ],\n",
       "        [ 1.        , 58.84095622, 75.85844831],\n",
       "        [ 1.        , 99.8278578 , 72.36925193],\n",
       "        [ 1.        , 47.26426911, 88.475865  ],\n",
       "        [ 1.        , 50.4581598 , 75.80985953],\n",
       "        [ 1.        , 60.45555629, 42.50840944],\n",
       "        [ 1.        , 82.22666158, 42.71987854],\n",
       "        [ 1.        , 88.91389642, 69.8037889 ],\n",
       "        [ 1.        , 94.83450672, 45.6943068 ],\n",
       "        [ 1.        , 67.31925747, 66.58935318],\n",
       "        [ 1.        , 57.23870632, 59.51428198],\n",
       "        [ 1.        , 80.366756  , 90.9601479 ],\n",
       "        [ 1.        , 68.46852179, 85.5943071 ],\n",
       "        [ 1.        , 42.07545454, 78.844786  ],\n",
       "        [ 1.        , 75.47770201, 90.424539  ],\n",
       "        [ 1.        , 78.63542435, 96.64742717],\n",
       "        [ 1.        , 52.34800399, 60.76950526],\n",
       "        [ 1.        , 94.09433113, 77.15910509],\n",
       "        [ 1.        , 90.44855097, 87.50879176],\n",
       "        [ 1.        , 55.48216114, 35.57070347],\n",
       "        [ 1.        , 74.49269242, 84.84513685],\n",
       "        [ 1.        , 89.84580671, 45.35828361],\n",
       "        [ 1.        , 83.48916274, 48.3802858 ],\n",
       "        [ 1.        , 42.26170081, 87.10385094],\n",
       "        [ 1.        , 99.31500881, 68.77540947],\n",
       "        [ 1.        , 55.34001756, 64.93193801],\n",
       "        [ 1.        , 74.775893  , 89.5298129 ]]),\n",
       " array([34.62365962, 30.28671077, 35.84740877, 60.18259939, 79.03273605,\n",
       "        45.08327748, 61.10666454, 75.02474557, 76.0987867 , 84.43281996,\n",
       "        95.86155507, 75.01365839, 82.30705337, 69.36458876, 39.53833914,\n",
       "        53.97105215, 69.07014406, 67.94685548, 70.66150955, 76.97878373,\n",
       "        67.37202755, 89.67677575, 50.53478829, 34.21206098, 77.92409145,\n",
       "        62.27101367, 80.19018075, 93.1143888 , 61.83020602, 38.7858038 ,\n",
       "        61.37928945, 85.40451939, 52.10797973, 52.04540477, 40.23689374,\n",
       "        54.63510555, 33.91550011, 64.17698887, 74.78925296, 34.18364003,\n",
       "        83.90239366, 51.54772027, 94.44336777, 82.36875376, 51.04775177,\n",
       "        62.22267576, 77.19303493, 97.77159928, 62.0730638 , 91.5649745 ,\n",
       "        79.94481794, 99.27252693, 90.54671411, 34.52451385, 50.28649612,\n",
       "        49.58667722, 97.64563396, 32.57720017, 74.24869137, 71.79646206,\n",
       "        75.39561147, 35.28611282, 56.2538175 , 30.05882245, 44.66826172,\n",
       "        66.56089447, 40.45755098, 49.07256322, 80.27957401, 66.74671857,\n",
       "        32.72283304, 64.03932042, 72.34649423, 60.45788574, 58.84095622,\n",
       "        99.8278578 , 47.26426911, 50.4581598 , 60.45555629, 82.22666158,\n",
       "        88.91389642, 94.83450672, 67.31925747, 57.23870632, 80.366756  ,\n",
       "        68.46852179, 42.07545454, 75.47770201, 78.63542435, 52.34800399,\n",
       "        94.09433113, 90.44855097, 55.48216114, 74.49269242, 89.84580671,\n",
       "        83.48916274, 42.26170081, 99.31500881, 55.34001756, 74.775893  ]),\n",
       " array([78.02469282, 43.89499752, 72.90219803, 86.3085521 , 75.34437644,\n",
       "        56.31637178, 96.51142588, 46.55401354, 87.42056972, 43.53339331,\n",
       "        38.22527806, 30.60326323, 76.4819633 , 97.71869196, 76.03681085,\n",
       "        89.20735014, 52.74046973, 46.67857411, 92.92713789, 47.57596365,\n",
       "        42.83843832, 65.79936593, 48.85581153, 44.2095286 , 68.97235999,\n",
       "        69.95445795, 44.82162893, 38.80067034, 50.25610789, 64.99568096,\n",
       "        72.80788731, 57.05198398, 63.12762377, 69.43286012, 71.16774802,\n",
       "        52.21388588, 98.86943574, 80.90806059, 41.57341523, 75.23772034,\n",
       "        56.30804622, 46.85629026, 65.56892161, 40.61825516, 45.82270146,\n",
       "        52.06099195, 70.4582    , 86.72782233, 96.76882412, 88.69629255,\n",
       "        74.16311935, 60.999031  , 43.39060181, 60.39634246, 49.80453881,\n",
       "        59.80895099, 68.86157272, 95.59854761, 69.82457123, 78.45356225,\n",
       "        85.75993667, 47.02051395, 39.26147251, 49.59297387, 66.45008615,\n",
       "        41.09209808, 97.53518549, 51.88321182, 92.11606081, 60.99139403,\n",
       "        43.30717306, 78.03168802, 96.22759297, 73.0949981 , 75.85844831,\n",
       "        72.36925193, 88.475865  , 75.80985953, 42.50840944, 42.71987854,\n",
       "        69.8037889 , 45.6943068 , 66.58935318, 59.51428198, 90.9601479 ,\n",
       "        85.5943071 , 78.844786  , 90.424539  , 96.64742717, 60.76950526,\n",
       "        77.15910509, 87.50879176, 35.57070347, 84.84513685, 45.35828361,\n",
       "        48.3802858 , 87.10385094, 68.77540947, 64.93193801, 89.5298129 ]),\n",
       " (100,))"
      ]
     },
     "execution_count": 2,
     "metadata": {},
     "output_type": "execute_result"
    }
   ],
   "source": [
    "df = data.copy()\n",
    "col = df.shape[1]\n",
    "x = df.iloc[:,0:col - 1]\n",
    "y = df.iloc[:,col - 1 :col]\n",
    "X = x.copy()\n",
    "X.insert(0,'one',1)\n",
    "x = np.array(x)\n",
    "y = np.array(y)\n",
    "X = np.array(X)\n",
    "x_1 = x[:,0]\n",
    "x_2 = x[:,1]\n",
    "x,y,X,x_1,x_2,x_1.shape"
   ]
  },
  {
   "cell_type": "code",
   "execution_count": 3,
   "metadata": {},
   "outputs": [],
   "source": [
    "\"\"\"将原数据分组\"\"\"\n",
    "pos = []\n",
    "neg = []\n",
    "for i in range(x.shape[0]):#选出正类和负类的索引\n",
    "    if y[i] == 1:\n",
    "        pos.append(i)\n",
    "    else:\n",
    "        neg.append(i)\n",
    "pos_x_1 = x_1[pos]#一维矩阵不能用于scatter中，要转换为一维数组或列表\n",
    "pos_x_2 = x_2[pos]\n",
    "neg_x_1 = x_1[neg]\n",
    "neg_x_2 = x_2[neg]"
   ]
  },
  {
   "cell_type": "code",
   "execution_count": 4,
   "metadata": {},
   "outputs": [
    {
     "data": {
      "text/plain": [
       "<matplotlib.legend.Legend at 0x7f8b72b93af0>"
      ]
     },
     "execution_count": 4,
     "metadata": {},
     "output_type": "execute_result"
    },
    {
     "data": {
      "image/png": "[encoded data removed]",
      "text/plain": [
       "<Figure size 432x288 with 1 Axes>"
      ]
     },
     "metadata": {
      "needs_background": "light"
     },
     "output_type": "display_data"
    }
   ],
   "source": [
    "fig,ax = plt.subplots()\n",
    "ax.scatter(pos_x_1,pos_x_2,label = 'admitted',marker = 'o')\n",
    "ax.scatter(neg_x_1,neg_x_2,label = 'not admitted',marker= 'x')\n",
    "ax.legend(loc = 1)"
   ]
  },
  {
   "cell_type": "markdown",
   "metadata": {},
   "source": [
    "## sigmoid函数"
   ]
  },
  {
   "cell_type": "code",
   "execution_count": 5,
   "metadata": {},
   "outputs": [
    {
     "data": {
      "text/plain": [
       "[<matplotlib.lines.Line2D at 0x7f8b7230db80>]"
      ]
     },
     "execution_count": 5,
     "metadata": {},
     "output_type": "execute_result"
    },
    {
     "data": {
      "image/png": "[encoded data removed]",
      "text/plain": [
       "<Figure size 432x288 with 1 Axes>"
      ]
     },
     "metadata": {
      "needs_background": "light"
     },
     "output_type": "display_data"
    }
   ],
   "source": [
    "def sigmoid(z):\n",
    "    g = 1/(1+np.exp(-z))\n",
    "    return g\n",
    "n = np.arange(-10.,10.,0.1)\n",
    "sigmoid(n)\n",
    "fig = plt.figure()\n",
    "plt.plot(n,sigmoid(n))"
   ]
  },
  {
   "cell_type": "markdown",
   "metadata": {},
   "source": [
    "## 代价函数"
   ]
  },
  {
   "cell_type": "code",
   "execution_count": 6,
   "metadata": {},
   "outputs": [
    {
     "data": {
      "text/plain": [
       "0.6931471805599453"
      ]
     },
     "execution_count": 6,
     "metadata": {},
     "output_type": "execute_result"
    }
   ],
   "source": [
    "theta = np.zeros(X.shape[1])\n",
    "def costfunction(X,y,theta):\n",
    "    theta = np.matrix(theta) #建议平时用array，需要将一维的matrix在转换\n",
    "    cost = -1/len(X)*((y.T* np.log(sigmoid(X * theta.T))+ (1-y).T * np.log(sigmoid(X * theta.T))))\n",
    "    return cost[0,0]\n",
    "costfunction(X,y,theta)"
   ]
  },
  {
   "cell_type": "code",
   "execution_count": 7,
   "metadata": {},
   "outputs": [
    {
     "data": {
      "text/plain": [
       "((100, 1), (100, 3), array([0., 0., 0.]))"
      ]
     },
     "execution_count": 7,
     "metadata": {},
     "output_type": "execute_result"
    }
   ],
   "source": [
    "y.shape,X.shape,theta"
   ]
  },
  {
   "cell_type": "markdown",
   "metadata": {},
   "source": [
    "## 梯度下降"
   ]
  },
  {
   "cell_type": "code",
   "execution_count": 8,
   "metadata": {},
   "outputs": [],
   "source": [
    "\"\"\"一个梯度步长\"\"\"\n",
    "def gradient(theta,X,y,m):\n",
    "    X = np.matrix(X)\n",
    "    y = np.matrix(y)\n",
    "    theta = np.matrix(theta)\n",
    "    h = X * theta.T\n",
    "    erro = sigmoid(h) - y\n",
    "    grad = (X.T*erro)/m\n",
    "    return np.array(grad).reshape(3)"
   ]
  },
  {
   "cell_type": "code",
   "execution_count": 9,
   "metadata": {},
   "outputs": [
    {
     "data": {
      "text/plain": [
       "array([ -0.1       , -12.00921659, -11.26284221])"
      ]
     },
     "execution_count": 9,
     "metadata": {},
     "output_type": "execute_result"
    }
   ],
   "source": [
    "m = len(X)\n",
    "gradient(theta,X,y,m)"
   ]
  },
  {
   "cell_type": "code",
   "execution_count": 10,
   "metadata": {},
   "outputs": [
    {
     "data": {
      "text/plain": [
       "(3,)"
      ]
     },
     "execution_count": 10,
     "metadata": {},
     "output_type": "execute_result"
    }
   ],
   "source": [
    "\"\"\"迭代1000次\"\"\"\n",
    "costs = []\n",
    "for i in range(10000):\n",
    "    temp = theta - 0.01*gradient(theta,X,y,m)\n",
    "    theta = temp\n",
    "    costs.append(costfunction(X,y,theta))\n",
    "np.array(theta).reshape(3).shape"
   ]
  },
  {
   "cell_type": "code",
   "execution_count": 11,
   "metadata": {},
   "outputs": [
    {
     "data": {
      "text/plain": [
       "[<matplotlib.lines.Line2D at 0x7f8b7224b1c0>]"
      ]
     },
     "execution_count": 11,
     "metadata": {},
     "output_type": "execute_result"
    },
    {
     "data": {
      "image/png": "[encoded data removed]",
      "text/plain": [
       "<Figure size 432x288 with 1 Axes>"
      ]
     },
     "metadata": {
      "needs_background": "light"
     },
     "output_type": "display_data"
    }
   ],
   "source": [
    "fig  =plt.figure()\n",
    "plt.plot(costs)\n",
    "##在alpha=0.01 迭代10000次后，代价依然很难收敛"
   ]
  },
  {
   "cell_type": "code",
   "execution_count": 12,
   "metadata": {},
   "outputs": [],
   "source": [
    "# import scipy.optimize as opt\n",
    "# result = opt.fmin_tnc(func=costfunction, x0=theta, fprime=gradient, args=(X,y))"
   ]
  },
  {
   "cell_type": "code",
   "execution_count": null,
   "metadata": {},
   "outputs": [],
   "source": []
  },
  {
   "cell_type": "code",
   "execution_count": null,
   "metadata": {},
   "outputs": [],
   "source": []
  },
  {
   "cell_type": "code",
   "execution_count": null,
   "metadata": {},
   "outputs": [],
   "source": []
  }
 ],
 "metadata": {
  "kernelspec": {
   "display_name": "Python 3",
   "language": "python",
   "name": "python3"
  },
  "language_info": {
   "codemirror_mode": {
    "name": "ipython",
    "version": 3
   },
   "file_extension": ".py",
   "mimetype": "text/x-python",
   "name": "python",
   "nbconvert_exporter": "python",
   "pygments_lexer": "ipython3",
   "version": "3.8.3"
  }
 },
 "nbformat": 4,
 "nbformat_minor": 4
}
